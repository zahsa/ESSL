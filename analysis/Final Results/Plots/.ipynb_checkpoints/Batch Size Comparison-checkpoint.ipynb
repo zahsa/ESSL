{
 "cells": [
  {
   "cell_type": "markdown",
   "metadata": {},
   "source": [
    "Two different plots:\n",
    "\n",
    "1: 2x2 plot comparing max and average results for both bs=32 and bs=256\n",
    "2: 4 plots, comparing bs=32 and bs256 in single plot"
   ]
  },
  {
   "cell_type": "code",
   "execution_count": 1,
   "metadata": {},
   "outputs": [],
   "source": [
    "import matplotlib.pyplot as plt\n",
    "import seaborn as sns\n",
    "import pandas as pd\n",
    "import json\n",
    "import os\n",
    "from itertools import chain\n",
    "import numpy as np\n",
    "import glob\n",
    "\n",
    "lines = [\"b\", \"g\", \"r\", \"orange\", \"purple\"]\n",
    "colors1 = sns.color_palette(\"hls\", 8)\n",
    "colors2 = sns.color_palette(\"husl\", 8)\n",
    "markers = [\"*\", \"s\", \"^\", \"o\"]"
   ]
  },
  {
   "cell_type": "code",
   "execution_count": 2,
   "metadata": {},
   "outputs": [],
   "source": [
    "def plot_exp(exp_names, exps, title, metric, baseline=None):\n",
    "    for i, (exp, exp_path) in enumerate(zip(exp_names, exps)):\n",
    "        with open(exp_path, \"r\") as f:\n",
    "            results = json.load(f)        \n",
    "        plt.plot(range(1, len(results[metric])+1), results[metric], color=colors2[i], linestyle=\"-\", marker=markers[i], label=f\"{exp}\")\n",
    "    if baseline:\n",
    "        plt.plot(range(1, len(results[metric])+1), [baseline for _ in range(len(results[metric]))], color=\"black\", linestyle=\":\", label=\"Supervised\")    \n",
    "    plt.xlabel(\"Generation\")\n",
    "    plt.ylabel(\"Test Accuracy\")\n",
    "    plt.xticks=(range(len(results[metric])))\n",
    "    plt.legend(bbox_to_anchor=(1.5, 1.02))\n",
    "    plt.suptitle(title)\n",
    "    plt.show() \n",
    "    plt.clf()\n",
    "\n",
    "def plot_exp_on_ax(exp_names, exps, title, metric, ax,  baseline=None, color_dict=None, marker_dict=None):\n",
    "    for i, (exp, exp_path) in enumerate(zip(exp_names, exps)):\n",
    "        with open(exp_path, \"r\") as f:\n",
    "            results = json.load(f)        \n",
    "        ax.plot(range(1, len(results[metric])+1), results[metric], color=color_dict[exp] if color_dict else colors2[i], linestyle=\"-\", marker=marker_dict[exp] if marker_dict else markers[i], label=f\"{exp}\")\n",
    "    if baseline:\n",
    "        ax.plot(range(1, len(results[metric])+1), [baseline for _ in range(len(results[metric]))], color=\"black\", linestyle=\":\", label=\"Supervised\")    \n",
    "    ax.xticks=(range(len(results[metric])))\n",
    "    ax.set_title(title)\n",
    "\n",
    "def get_data_from_dir(exp_dir):\n",
    "    # get op, int format data from exp_dir\n",
    "    exps = glob.glob(os.path.join(exp_dir, \"*/\"))\n",
    "    chromos = []\n",
    "    for e in exps:\n",
    "        seed = e.split(\"/\")[-2]\n",
    "        with open(os.path.join(e, \"outcomes.json\"), \"r\") as f:\n",
    "            results = json.load(f)\n",
    "            for fitness, chromo in zip(results[\"pop_vals\"], results[\"chromos\"]):\n",
    "                c = list(chain.from_iterable(chromo[1]))\n",
    "                c.append(seed)\n",
    "                c.append(fitness[1])\n",
    "                chromos.append(c)\n",
    "    columns = list(chain.from_iterable([[f\"aug{i}\", f\"op{i}\"] for i in range(1, 4)]))\n",
    "    columns.append(\"seed\")\n",
    "    columns.append(\"test acc\")\n",
    "    columns\n",
    "    df = pd.DataFrame(chromos, columns=columns)\n",
    "    \n",
    "    # create data in long format\n",
    "    ops = set(list(df[\"aug1\"]) + list(df[\"aug2\"]) +  list(df[\"aug3\"]))\n",
    "    indexes = {op:i for i, op in enumerate(ops)}\n",
    "    chromos_long = np.zeros([len(chromos), len(ops)+2])\n",
    "    for i, c in enumerate(chromos):\n",
    "        for aug, intensity in zip(c[:-2][::2], c[:-2][1::2]):\n",
    "            chromos_long[i][indexes[aug]] = intensity\n",
    "            chromos_long[i][-2] = int(c[-2])\n",
    "            chromos_long[i][-1] = c[-1]\n",
    "    columns_long = list(ops) + [\"seed\", \"fitness\"]\n",
    "    df_long = pd.DataFrame(chromos_long, columns = columns_long)\n",
    "    return df, df_long, ops\n",
    "\n",
    "def get_data(exp_path):\n",
    "    chromos = []\n",
    "    with open(exp_path, \"r\") as f:\n",
    "        results = json.load(f)\n",
    "        for fitness, chromo in zip(results[\"pop_vals\"], results[\"chromos\"]):\n",
    "            c = list(chain.from_iterable(chromo[1]))\n",
    "            c.append(fitness[1])\n",
    "            chromos.append(c)\n",
    "    columns = list(chain.from_iterable([[f\"aug{i}\", f\"op{i}\"] for i in range(1, 4)]))\n",
    "    columns.append(\"test acc\")\n",
    "    columns\n",
    "    df = pd.DataFrame(chromos, columns=columns)\n",
    "    \n",
    "    # create data in long format\n",
    "    ops = set(list(df[\"aug1\"]) + list(df[\"aug2\"]) +  list(df[\"aug3\"]))\n",
    "    indexes = {op:i for i, op in enumerate(ops)}\n",
    "    chromos_long = np.zeros([len(chromos), len(ops)+1])\n",
    "    for i, c in enumerate(chromos):\n",
    "        for aug, intensity in zip(c[:-2][::2], c[:-2][1::2]):\n",
    "            chromos_long[i][indexes[aug]] = intensity\n",
    "            chromos_long[i][-1] = c[-1]\n",
    "    columns_long = list(ops) + [\"fitness\"]\n",
    "    df_long = pd.DataFrame(chromos_long, columns = columns_long)\n",
    "    return df, df_long, ops"
   ]
  },
  {
   "cell_type": "code",
   "execution_count": 3,
   "metadata": {},
   "outputs": [],
   "source": [
    "def get_algorithm(params_path):\n",
    "    with open(params_path, \"r\") as f:\n",
    "        params = []\n",
    "        for i, l in enumerate(f.readlines()):\n",
    "            params.append(l)\n",
    "    # get params\n",
    "    ssl = [j.split(\" \")[1].strip(\"\\n\") for j in params if \"ssl_task\" in j][0]\n",
    "    return ssl"
   ]
  },
  {
   "cell_type": "code",
   "execution_count": 4,
   "metadata": {},
   "outputs": [
    {
     "ename": "TypeError",
     "evalue": "list indices must be integers or slices, not str",
     "output_type": "error",
     "traceback": [
      "\u001b[0;31m---------------------------------------------------------------------------\u001b[0m",
      "\u001b[0;31mTypeError\u001b[0m                                 Traceback (most recent call last)",
      "\u001b[0;32m/tmp/ipykernel_23501/3384960581.py\u001b[0m in \u001b[0;36m<module>\u001b[0;34m\u001b[0m\n\u001b[1;32m      7\u001b[0m \u001b[0mb32_names\u001b[0m \u001b[0;34m=\u001b[0m \u001b[0;34m[\u001b[0m\u001b[0mget_algorithm\u001b[0m\u001b[0;34m(\u001b[0m\u001b[0mos\u001b[0m\u001b[0;34m.\u001b[0m\u001b[0mpath\u001b[0m\u001b[0;34m.\u001b[0m\u001b[0mjoin\u001b[0m\u001b[0;34m(\u001b[0m\u001b[0mf\u001b[0m\u001b[0;34m,\u001b[0m \u001b[0;34m\"params.txt\"\u001b[0m\u001b[0;34m)\u001b[0m\u001b[0;34m)\u001b[0m \u001b[0;32mfor\u001b[0m \u001b[0mf\u001b[0m \u001b[0;32min\u001b[0m \u001b[0mb32_fs\u001b[0m\u001b[0;34m]\u001b[0m\u001b[0;34m\u001b[0m\u001b[0;34m\u001b[0m\u001b[0m\n\u001b[1;32m      8\u001b[0m \u001b[0;34m\u001b[0m\u001b[0m\n\u001b[0;32m----> 9\u001b[0;31m \u001b[0mcolor_dict\u001b[0m \u001b[0;34m=\u001b[0m \u001b[0;34m{\u001b[0m\u001b[0mname\u001b[0m\u001b[0;34m:\u001b[0m \u001b[0mcolors2\u001b[0m\u001b[0;34m[\u001b[0m\u001b[0mi\u001b[0m\u001b[0;34m]\u001b[0m \u001b[0;32mfor\u001b[0m \u001b[0mname\u001b[0m\u001b[0;34m,\u001b[0m \u001b[0mi\u001b[0m \u001b[0;32min\u001b[0m \u001b[0menumerate\u001b[0m\u001b[0;34m(\u001b[0m\u001b[0mset\u001b[0m\u001b[0;34m(\u001b[0m\u001b[0mb32_names\u001b[0m \u001b[0;34m+\u001b[0m \u001b[0mb256_names\u001b[0m\u001b[0;34m)\u001b[0m\u001b[0;34m)\u001b[0m\u001b[0;34m}\u001b[0m\u001b[0;34m\u001b[0m\u001b[0;34m\u001b[0m\u001b[0m\n\u001b[0m\u001b[1;32m     10\u001b[0m \u001b[0mmarker_dict\u001b[0m\u001b[0;34m=\u001b[0m \u001b[0;34m{\u001b[0m\u001b[0mname\u001b[0m\u001b[0;34m:\u001b[0m \u001b[0mmarkers\u001b[0m\u001b[0;34m[\u001b[0m\u001b[0mi\u001b[0m\u001b[0;34m]\u001b[0m \u001b[0;32mfor\u001b[0m \u001b[0mname\u001b[0m\u001b[0;34m,\u001b[0m \u001b[0mi\u001b[0m \u001b[0;32min\u001b[0m \u001b[0menumerate\u001b[0m\u001b[0;34m(\u001b[0m\u001b[0mset\u001b[0m\u001b[0;34m(\u001b[0m\u001b[0mb32_names\u001b[0m \u001b[0;34m+\u001b[0m \u001b[0mb256_names\u001b[0m\u001b[0;34m)\u001b[0m\u001b[0;34m)\u001b[0m\u001b[0;34m}\u001b[0m\u001b[0;34m\u001b[0m\u001b[0;34m\u001b[0m\u001b[0m\n",
      "\u001b[0;32m/tmp/ipykernel_23501/3384960581.py\u001b[0m in \u001b[0;36m<dictcomp>\u001b[0;34m(.0)\u001b[0m\n\u001b[1;32m      7\u001b[0m \u001b[0mb32_names\u001b[0m \u001b[0;34m=\u001b[0m \u001b[0;34m[\u001b[0m\u001b[0mget_algorithm\u001b[0m\u001b[0;34m(\u001b[0m\u001b[0mos\u001b[0m\u001b[0;34m.\u001b[0m\u001b[0mpath\u001b[0m\u001b[0;34m.\u001b[0m\u001b[0mjoin\u001b[0m\u001b[0;34m(\u001b[0m\u001b[0mf\u001b[0m\u001b[0;34m,\u001b[0m \u001b[0;34m\"params.txt\"\u001b[0m\u001b[0;34m)\u001b[0m\u001b[0;34m)\u001b[0m \u001b[0;32mfor\u001b[0m \u001b[0mf\u001b[0m \u001b[0;32min\u001b[0m \u001b[0mb32_fs\u001b[0m\u001b[0;34m]\u001b[0m\u001b[0;34m\u001b[0m\u001b[0;34m\u001b[0m\u001b[0m\n\u001b[1;32m      8\u001b[0m \u001b[0;34m\u001b[0m\u001b[0m\n\u001b[0;32m----> 9\u001b[0;31m \u001b[0mcolor_dict\u001b[0m \u001b[0;34m=\u001b[0m \u001b[0;34m{\u001b[0m\u001b[0mname\u001b[0m\u001b[0;34m:\u001b[0m \u001b[0mcolors2\u001b[0m\u001b[0;34m[\u001b[0m\u001b[0mi\u001b[0m\u001b[0;34m]\u001b[0m \u001b[0;32mfor\u001b[0m \u001b[0mname\u001b[0m\u001b[0;34m,\u001b[0m \u001b[0mi\u001b[0m \u001b[0;32min\u001b[0m \u001b[0menumerate\u001b[0m\u001b[0;34m(\u001b[0m\u001b[0mset\u001b[0m\u001b[0;34m(\u001b[0m\u001b[0mb32_names\u001b[0m \u001b[0;34m+\u001b[0m \u001b[0mb256_names\u001b[0m\u001b[0;34m)\u001b[0m\u001b[0;34m)\u001b[0m\u001b[0;34m}\u001b[0m\u001b[0;34m\u001b[0m\u001b[0;34m\u001b[0m\u001b[0m\n\u001b[0m\u001b[1;32m     10\u001b[0m \u001b[0mmarker_dict\u001b[0m\u001b[0;34m=\u001b[0m \u001b[0;34m{\u001b[0m\u001b[0mname\u001b[0m\u001b[0;34m:\u001b[0m \u001b[0mmarkers\u001b[0m\u001b[0;34m[\u001b[0m\u001b[0mi\u001b[0m\u001b[0;34m]\u001b[0m \u001b[0;32mfor\u001b[0m \u001b[0mname\u001b[0m\u001b[0;34m,\u001b[0m \u001b[0mi\u001b[0m \u001b[0;32min\u001b[0m \u001b[0menumerate\u001b[0m\u001b[0;34m(\u001b[0m\u001b[0mset\u001b[0m\u001b[0;34m(\u001b[0m\u001b[0mb32_names\u001b[0m \u001b[0;34m+\u001b[0m \u001b[0mb256_names\u001b[0m\u001b[0;34m)\u001b[0m\u001b[0;34m)\u001b[0m\u001b[0;34m}\u001b[0m\u001b[0;34m\u001b[0m\u001b[0;34m\u001b[0m\u001b[0m\n",
      "\u001b[0;31mTypeError\u001b[0m: list indices must be integers or slices, not str"
     ]
    }
   ],
   "source": [
    "b256_fs = glob.glob(\"/home/noah/ESSL/final_exps/optimization/exp8*/*\")\n",
    "b256 = [os.path.join(f, \"outcomes.json\") for f in b256_fs]\n",
    "b256_names = [get_algorithm(os.path.join(f, \"params.txt\")) for f in b256_fs]\n",
    "\n",
    "b32_fs = glob.glob(\"/home/noah/ESSL/final_exps/optimization/exp6*/*\")\n",
    "b32 = [os.path.join(f, \"outcomes.json\") for f in b32_fs]\n",
    "b32_names = [get_algorithm(os.path.join(f, \"params.txt\")) for f in b32_fs]\n",
    "\n",
    "color_dict = {name: colors2[i] for i, name in enumerate(set(b32_names + b256_names))}\n",
    "marker_dict= {name: markers[i] for i, name in enumerate(set(b32_names + b256_names))}"
   ]
  },
  {
   "cell_type": "code",
   "execution_count": null,
   "metadata": {},
   "outputs": [],
   "source": [
    "# plot 2x2 of figures\n",
    "fig, ax = plt.subplots(2,2, figsize=(15, 10))\n",
    "plot_exp_on_ax(exp_names=b256_names, exps=b256, title=\"Batch Size 256  (Average Performance)\", metric=\"avg\", ax=ax[0,0],  baseline=83.24, color_dict=color_dict, marker_dict=marker_dict)\n",
    "plot_exp_on_ax(exp_names=b256_names, exps=b256, title=\"Batch Size 256  (Best Performance)\", metric=\"max\", ax=ax[1,0],  baseline=83.24, color_dict=color_dict, marker_dict=marker_dict)\n",
    "plot_exp_on_ax(exp_names=b32_names, exps=b32, title=\"Batch Size 32 (Average Performance)\", metric=\"avg\", ax=ax[0,1],  baseline=83.24, color_dict=color_dict, marker_dict=marker_dict)\n",
    "plot_exp_on_ax(exp_names=b32_names, exps=b32, title=\"Batch Size 32  (Best Performance)\", metric=\"max\", ax=ax[1,1],  baseline=83.24, color_dict=color_dict, marker_dict=marker_dict)\n",
    "plt.legend(bbox_to_anchor=(1.3, 2.2))\n",
    "fig.supxlabel(\"Generation\", fontsize=20)\n",
    "fig.supylabel(\"Test Accuracy\", fontsize=20)\n",
    "fig.suptitle(\"Effect of Batch Size (Cifar10)\", fontsize=24)\n",
    "\n",
    "plt.show()\n",
    "plt.clf()"
   ]
  },
  {
   "cell_type": "code",
   "execution_count": null,
   "metadata": {},
   "outputs": [],
   "source": [
    "b256_fs_svhn = glob.glob(\"/home/noah/ESSL/final_exps/optimization/exp10*/*\")\n",
    "b256_svhn = [os.path.join(f, \"outcomes.json\") for f in b256_fs_svhn]\n",
    "b256_names_svhn = [get_algorithm(os.path.join(f, \"params.txt\")) for f in b256_fs_svhn]\n",
    "\n",
    "b32_fs_svhn = glob.glob(\"/home/noah/ESSL/final_exps/optimization/exp11*/*\")\n",
    "b32_svhn = [os.path.join(f, \"outcomes.json\") for f in b32_fs_svhn]\n",
    "b32_names_svhn = [get_algorithm(os.path.join(f, \"params.txt\")) for f in b32_fs_svhn]\n"
   ]
  },
  {
   "cell_type": "code",
   "execution_count": null,
   "metadata": {},
   "outputs": [],
   "source": [
    "# plot 2x2 of figures\n",
    "fig, ax = plt.subplots(2,2, figsize=(15, 10))\n",
    "plot_exp_on_ax(exp_names=b256_names_svhn, exps=b256_svhn, title=\"Batch Size 256  (Average Performance)\", metric=\"avg\", ax=ax[0,0], color_dict=color_dict, marker_dict=marker_dict)\n",
    "plot_exp_on_ax(exp_names=b256_names_svhn, exps=b256_svhn, title=\"Batch Size 256  (Best Performance)\", metric=\"max\", ax=ax[1,0], color_dict=color_dict, marker_dict=marker_dict)\n",
    "plot_exp_on_ax(exp_names=b32_names_svhn, exps=b32_svhn, title=\"Batch Size 32 (Average Performance)\", metric=\"avg\", ax=ax[0,1], color_dict=color_dict, marker_dict=marker_dict)\n",
    "plot_exp_on_ax(exp_names=b32_names_svhn, exps=b32_svhn, title=\"Batch Size 32  (Best Performance)\", metric=\"max\", ax=ax[1,1], color_dict=color_dict, marker_dict=marker_dict)\n",
    "plt.legend(bbox_to_anchor=(1.3, 2.2))\n",
    "fig.supxlabel(\"Generation\", fontsize=20)\n",
    "fig.supylabel(\"Test Accuracy\", fontsize=20)\n",
    "fig.suptitle(\"Effect of Batch Size (SVHN)\", fontsize=24)\n",
    "\n",
    "plt.show()\n",
    "plt.clf()"
   ]
  },
  {
   "cell_type": "code",
   "execution_count": null,
   "metadata": {},
   "outputs": [],
   "source": [
    "# # create a dict mapping for each experiment\n",
    "# b256_map = {k:v for k, v in zip(b256_names, b256)}\n",
    "# b32_map = {k:v for k, v in zip(b32_names, b32)}\n",
    "# for k in b256_map:\n",
    "#     exps = [b32_map[k], b256_map[k]]\n",
    "#     exp_names = [\"BS=32\", \"BS=256\"]\n",
    "#     title = f\" Batch Size Comparison, {k} (Best Result)\"\n",
    "#     metric=\"max\"\n",
    "#     plot_exp(exp_names, exps, title, metric, baseline=True)"
   ]
  },
  {
   "cell_type": "code",
   "execution_count": null,
   "metadata": {},
   "outputs": [],
   "source": [
    "# # create a dict mapping for each experiment\n",
    "# b256_map = {k:v for k, v in zip(b256_names, b256)}\n",
    "# b32_map = {k:v for k, v in zip(b32_names, b32)}\n",
    "# for k in b256_map:\n",
    "#     exps = [b32_map[k], b256_map[k]]\n",
    "#     exp_names = [\"BS=32\", \"BS=256\"]\n",
    "#     title = f\" Batch Size Comparison, {k} (Average Result)\"\n",
    "#     metric=\"avg\"\n",
    "#     plot_exp(exp_names, exps, title, metric, baseline=True)"
   ]
  },
  {
   "cell_type": "code",
   "execution_count": null,
   "metadata": {},
   "outputs": [],
   "source": []
  }
 ],
 "metadata": {
  "kernelspec": {
   "display_name": "essl",
   "language": "python",
   "name": "essl"
  },
  "language_info": {
   "codemirror_mode": {
    "name": "ipython",
    "version": 3
   },
   "file_extension": ".py",
   "mimetype": "text/x-python",
   "name": "python",
   "nbconvert_exporter": "python",
   "pygments_lexer": "ipython3",
   "version": "3.7.13"
  }
 },
 "nbformat": 4,
 "nbformat_minor": 2
}
