{
 "cells": [
  {
   "cell_type": "code",
   "execution_count": 1,
   "metadata": {},
   "outputs": [
    {
     "name": "stdout",
     "output_type": "stream",
     "text": [
      "['/home/noah/ESSL/final_exps/optimization/exp10_3/1', '/home/noah/ESSL/final_exps/optimization/exp10_0/1', '/home/noah/ESSL/final_exps/optimization/exp10_1/4', '/home/noah/ESSL/final_exps/optimization/exp10_2/1']\n"
     ]
    }
   ],
   "source": [
    "import json\n",
    "import glob\n",
    "import os\n",
    "\n",
    "seed_dirs = glob.glob(\"/home/noah/ESSL/final_exps/optimization/*10*/*\")\n",
    "\n",
    "print(seed_dirs)"
   ]
  },
  {
   "cell_type": "code",
   "execution_count": 2,
   "metadata": {},
   "outputs": [
    {
     "name": "stdout",
     "output_type": "stream",
     "text": [
      "NNCLR: 91.99\n",
      "SwaV: 92.17\n",
      "BYOL: 92.23\n",
      "SimSiam: 92.12\n"
     ]
    }
   ],
   "source": [
    "print(\"avg acc\")\n",
    "for s in seed_dirs:\n",
    "    f = os.path.join(s, \"outcomes.json\")\n",
    "    with open(f, \"r\") as fp:\n",
    "        outcome = json.load(fp)\n",
    "    f = os.path.join(s, \"params.txt\")\n",
    "    with open(f, \"r\") as fp:\n",
    "        params = fp.readlines()\n",
    "    ssl_task = [x for x in params if \"ssl_task\" in x][0].split(\" \")[1][:-1]\n",
    "    best_ind = outcome[\"max\"].index(max(outcome[\"max\"]))\n",
    "    average = outcome['avg'][best_ind]\n",
    "    print(f\"{ssl_task}: {round(average, 2)}\")\n",
    "    \n"
   ]
  },
  {
   "cell_type": "code",
   "execution_count": 3,
   "metadata": {},
   "outputs": [
    {
     "name": "stdout",
     "output_type": "stream",
     "text": [
      "test loss\n"
     ]
    },
    {
     "ename": "KeyError",
     "evalue": "'loss'",
     "output_type": "error",
     "traceback": [
      "\u001b[0;31m---------------------------------------------------------------------------\u001b[0m",
      "\u001b[0;31mKeyError\u001b[0m                                  Traceback (most recent call last)",
      "\u001b[0;32m/tmp/ipykernel_6884/3656728505.py\u001b[0m in \u001b[0;36m<module>\u001b[0;34m\u001b[0m\n\u001b[1;32m      9\u001b[0m     \u001b[0mssl_task\u001b[0m \u001b[0;34m=\u001b[0m \u001b[0;34m[\u001b[0m\u001b[0mx\u001b[0m \u001b[0;32mfor\u001b[0m \u001b[0mx\u001b[0m \u001b[0;32min\u001b[0m \u001b[0mparams\u001b[0m \u001b[0;32mif\u001b[0m \u001b[0;34m\"ssl_task\"\u001b[0m \u001b[0;32min\u001b[0m \u001b[0mx\u001b[0m\u001b[0;34m]\u001b[0m\u001b[0;34m[\u001b[0m\u001b[0;36m0\u001b[0m\u001b[0;34m]\u001b[0m\u001b[0;34m.\u001b[0m\u001b[0msplit\u001b[0m\u001b[0;34m(\u001b[0m\u001b[0;34m\" \"\u001b[0m\u001b[0;34m)\u001b[0m\u001b[0;34m[\u001b[0m\u001b[0;36m1\u001b[0m\u001b[0;34m]\u001b[0m\u001b[0;34m[\u001b[0m\u001b[0;34m:\u001b[0m\u001b[0;34m-\u001b[0m\u001b[0;36m1\u001b[0m\u001b[0;34m]\u001b[0m\u001b[0;34m\u001b[0m\u001b[0;34m\u001b[0m\u001b[0m\n\u001b[1;32m     10\u001b[0m     \u001b[0mbest_ind\u001b[0m \u001b[0;34m=\u001b[0m \u001b[0moutcome\u001b[0m\u001b[0;34m[\u001b[0m\u001b[0;34m\"max\"\u001b[0m\u001b[0;34m]\u001b[0m\u001b[0;34m.\u001b[0m\u001b[0mindex\u001b[0m\u001b[0;34m(\u001b[0m\u001b[0mmax\u001b[0m\u001b[0;34m(\u001b[0m\u001b[0moutcome\u001b[0m\u001b[0;34m[\u001b[0m\u001b[0;34m\"max\"\u001b[0m\u001b[0;34m]\u001b[0m\u001b[0;34m)\u001b[0m\u001b[0;34m)\u001b[0m\u001b[0;34m\u001b[0m\u001b[0;34m\u001b[0m\u001b[0m\n\u001b[0;32m---> 11\u001b[0;31m     \u001b[0maverage\u001b[0m \u001b[0;34m=\u001b[0m \u001b[0moutcome\u001b[0m\u001b[0;34m[\u001b[0m\u001b[0;34m'loss'\u001b[0m\u001b[0;34m]\u001b[0m\u001b[0;34m[\u001b[0m\u001b[0mbest_ind\u001b[0m\u001b[0;34m]\u001b[0m\u001b[0;34m\u001b[0m\u001b[0;34m\u001b[0m\u001b[0m\n\u001b[0m\u001b[1;32m     12\u001b[0m     \u001b[0mprint\u001b[0m\u001b[0;34m(\u001b[0m\u001b[0;34mf\"{ssl_task}: {round(average, 2)}\"\u001b[0m\u001b[0;34m)\u001b[0m\u001b[0;34m\u001b[0m\u001b[0;34m\u001b[0m\u001b[0m\n",
      "\u001b[0;31mKeyError\u001b[0m: 'loss'"
     ]
    }
   ],
   "source": [
    "print(\"test loss\")\n",
    "for s in seed_dirs:\n",
    "    f = os.path.join(s, \"outcomes.json\")\n",
    "    with open(f, \"r\") as fp:\n",
    "        outcome = json.load(fp)\n",
    "    f = os.path.join(s, \"params.txt\")\n",
    "    with open(f, \"r\") as fp:\n",
    "        params = fp.readlines()\n",
    "    ssl_task = [x for x in params if \"ssl_task\" in x][0].split(\" \")[1][:-1]\n",
    "    best_ind = outcome[\"max\"].index(max(outcome[\"max\"]))\n",
    "    average = outcome['loss'][best_ind]\n",
    "    print(f\"{ssl_task}: {round(average, 2)}\")"
   ]
  },
  {
   "cell_type": "code",
   "execution_count": null,
   "metadata": {},
   "outputs": [],
   "source": []
  }
 ],
 "metadata": {
  "kernelspec": {
   "display_name": "essl",
   "language": "python",
   "name": "essl"
  },
  "language_info": {
   "codemirror_mode": {
    "name": "ipython",
    "version": 3
   },
   "file_extension": ".py",
   "mimetype": "text/x-python",
   "name": "python",
   "nbconvert_exporter": "python",
   "pygments_lexer": "ipython3",
   "version": "3.7.13"
  }
 },
 "nbformat": 4,
 "nbformat_minor": 2
}
