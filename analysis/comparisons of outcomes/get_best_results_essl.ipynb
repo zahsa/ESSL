{
 "cells": [
  {
   "cell_type": "code",
   "execution_count": 1,
   "metadata": {},
   "outputs": [],
   "source": [
    "import seaborn as sns\n",
    "import pandas as pd\n",
    "import matplotlib.pyplot as plt\n",
    "import json\n",
    "from itertools import chain\n",
    "import numpy as np\n",
    "import glob"
   ]
  },
  {
   "cell_type": "code",
   "execution_count": 2,
   "metadata": {},
   "outputs": [],
   "source": [
    "def get_data(exp_path):\n",
    "    chromos = []\n",
    "    with open(exp_path, \"r\") as f:\n",
    "        results = json.load(f)\n",
    "        for fitness, chromo in zip(results[\"pop_vals\"], results[\"chromos\"]):\n",
    "            c = [chromo[1][0]] + list(chain.from_iterable(chromo[1][1:]))\n",
    "            c.append(fitness[1])\n",
    "            chromos.append(c)\n",
    "    columns = [\"SSL\"]\n",
    "    columns = []\n",
    "    columns += list(chain.from_iterable([[f\"aug{i}\", f\"op{i}\"] for i in range(1, 4)]))\n",
    "    columns.append(\"test acc\")\n",
    "    columns\n",
    "    df = pd.DataFrame(chromos, columns=columns)\n",
    " \n",
    "    return df\n",
    "def get_data_non_essl(exp_path):\n",
    "    chromos = []\n",
    "    with open(exp_path, \"r\") as f:\n",
    "        results = json.load(f)\n",
    "        for fitness, chromo in zip(results[\"pop_vals\"], results[\"chromos\"]):\n",
    "            c = list(chain.from_iterable(chromo[1]))\n",
    "            c.append(fitness[1])\n",
    "            chromos.append(c)\n",
    "\n",
    "    columns = list(chain.from_iterable([[f\"aug{i}\", f\"op{i}\"] for i in range(1, 4)]))\n",
    "    columns.append(\"test acc\")\n",
    "    \n",
    "    df = pd.DataFrame(chromos, columns=columns)\n",
    "    return df\n",
    "\n"
   ]
  },
  {
   "cell_type": "code",
   "execution_count": 3,
   "metadata": {},
   "outputs": [],
   "source": [
    "files = glob.glob(\"/home/noah/ESSL/final_exps/essl/*/*/outcomes.json\")\n",
    "files =[\"/home/noah/ESSL/final_exps/optimization/exp8_6/1/outcomes.json\"]"
   ]
  },
  {
   "cell_type": "code",
   "execution_count": 4,
   "metadata": {},
   "outputs": [
    {
     "data": {
      "text/html": [
       "<div>\n",
       "<style scoped>\n",
       "    .dataframe tbody tr th:only-of-type {\n",
       "        vertical-align: middle;\n",
       "    }\n",
       "\n",
       "    .dataframe tbody tr th {\n",
       "        vertical-align: top;\n",
       "    }\n",
       "\n",
       "    .dataframe thead th {\n",
       "        text-align: right;\n",
       "    }\n",
       "</style>\n",
       "<table border=\"1\" class=\"dataframe\">\n",
       "  <thead>\n",
       "    <tr style=\"text-align: right;\">\n",
       "      <th></th>\n",
       "      <th>aug1</th>\n",
       "      <th>op1</th>\n",
       "      <th>aug2</th>\n",
       "      <th>op2</th>\n",
       "      <th>aug3</th>\n",
       "      <th>op3</th>\n",
       "      <th>test acc</th>\n",
       "    </tr>\n",
       "  </thead>\n",
       "  <tbody>\n",
       "    <tr>\n",
       "      <th>0</th>\n",
       "      <td>Rotate</td>\n",
       "      <td>22.0</td>\n",
       "      <td>TranslateY</td>\n",
       "      <td>1.0</td>\n",
       "      <td>HorizontalFlip</td>\n",
       "      <td>0.715828</td>\n",
       "      <td>84.43</td>\n",
       "    </tr>\n",
       "  </tbody>\n",
       "</table>\n",
       "</div>"
      ],
      "text/plain": [
       "     aug1   op1        aug2  op2            aug3       op3  test acc\n",
       "0  Rotate  22.0  TranslateY  1.0  HorizontalFlip  0.715828     84.43"
      ]
     },
     "execution_count": 4,
     "metadata": {},
     "output_type": "execute_result"
    }
   ],
   "source": [
    "outcomes = []\n",
    "for exp in files:\n",
    "    df = get_data_non_essl(exp)\n",
    "    outcomes.append(list(df.sort_values(by=\"test acc\").iloc[-1]))\n",
    "pd.DataFrame(outcomes, columns=df.columns)"
   ]
  },
  {
   "cell_type": "code",
   "execution_count": null,
   "metadata": {},
   "outputs": [],
   "source": []
  }
 ],
 "metadata": {
  "kernelspec": {
   "display_name": "essl",
   "language": "python",
   "name": "essl"
  },
  "language_info": {
   "codemirror_mode": {
    "name": "ipython",
    "version": 3
   },
   "file_extension": ".py",
   "mimetype": "text/x-python",
   "name": "python",
   "nbconvert_exporter": "python",
   "pygments_lexer": "ipython3",
   "version": "3.7.13"
  }
 },
 "nbformat": 4,
 "nbformat_minor": 2
}
