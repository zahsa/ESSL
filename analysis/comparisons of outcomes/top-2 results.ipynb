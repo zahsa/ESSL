{
 "cells": [
  {
   "cell_type": "code",
   "execution_count": null,
   "metadata": {},
   "outputs": [],
   "source": [
    "import torch\n",
    "\n",
    "from essl.datasets import Cifar10"
   ]
  },
  {
   "cell_type": "code",
   "execution_count": null,
   "metadata": {},
   "outputs": [],
   "source": [
    "# EXP OPT #\n",
    "\n",
    "b256 = [\n",
    "    \"/home/noah/ESSL/cc_experiments/models_figs/opts/xp8_0/previous/runexp8-0/6/outcomes.json\",\n",
    "    \"/home/noah/ESSL/cc_experiments/models_figs/opts/xp8_1/runexp8-1/4/outcomes.json\",\n",
    "    \"/home/noah/ESSL/cc_experiments/models_figs/opts/xp8_2/runexp8-2/5/outcomes.json\",\n",
    "    \"/home/noah/ESSL/cc_experiments/models_figs/opts/xp8_3/0/outcomes.json\"\n",
    "]\n",
    "\n",
    "b256_names = [\"SwaV\", \"BYOL\", \"SimSiam\", \"NNCLR\"]\n",
    "\n",
    "b32 = [\n",
    "    \"/home/noah/ESSL/exps/iteration4/exp6_1/6/outcomes.json\",\n",
    "    \"/home/noah/ESSL/cc_experiments/models_figs/opts/xp6_2/runexp6-2/8/outcomes.json\",\n",
    "    \"/home/noah/ESSL/exps/iteration4/exp6_3_0/3/outcomes.json\",\n",
    "    \"/home/noah/ESSL/exps/iteration4/exp6_0/3/outcomes.json\"\n",
    "]\n",
    "\n",
    "b32_names = [\"SwaV\", \"BYOL\", \"SimSiam\", \"NNCLR\"]"
   ]
  },
  {
   "cell_type": "code",
   "execution_count": null,
   "metadata": {},
   "outputs": [],
   "source": [
    "data = Cifar10()\n",
    "testloader = torch.utils.data.DataLoader(data.test_data,\n",
    "                                                  batch_size=self.batch_size, shuffle=True)\n"
   ]
  },
  {
   "cell_type": "code",
   "execution_count": null,
   "metadata": {},
   "outputs": [],
   "source": [
    "for X, y in testloader:\n",
    "    inputs, labels = X.to(\"cuda\"), y.to(\"cuda\")"
   ]
  }
 ],
 "metadata": {
  "kernelspec": {
   "display_name": "essl",
   "language": "python",
   "name": "essl"
  },
  "language_info": {
   "codemirror_mode": {
    "name": "ipython",
    "version": 3
   },
   "file_extension": ".py",
   "mimetype": "text/x-python",
   "name": "python",
   "nbconvert_exporter": "python",
   "pygments_lexer": "ipython3",
   "version": "3.7.13"
  }
 },
 "nbformat": 4,
 "nbformat_minor": 2
}
