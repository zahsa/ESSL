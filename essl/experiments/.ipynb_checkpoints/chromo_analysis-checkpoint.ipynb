{
 "cells": [
  {
   "cell_type": "code",
   "execution_count": 1,
   "metadata": {},
   "outputs": [],
   "source": [
    "import matplotlib.pyplot as plt\n",
    "import seaborn as sns \n",
    "import pandas as pd\n",
    "import os\n",
    "import json\n",
    "import numpy as np\n",
    "from collections import defaultdict\n",
    "from IPython.display import display, HTML\n",
    "\n",
    "from matplotlib import colors as mcolors\n",
    "from matplotlib import cm\n",
    "from mycolorpy import colorlist as mcp\n",
    "from sklearn.metrics.pairwise import cosine_similarity\n",
    "from itertools import combinations"
   ]
  },
  {
   "cell_type": "code",
   "execution_count": 2,
   "metadata": {},
   "outputs": [
    {
     "name": "stdout",
     "output_type": "stream",
     "text": [
      "{'BYOL':             op1         op2         op3 final ssl loss final train loss  \\\n",
      "0    Brightness      ShearX    Solarize      -0.987169          0.51714   \n",
      "1      Contrast      Rotate  TranslateX      -0.988681         0.522079   \n",
      "2        ShearY  TranslateY       Color      -0.993385         0.529644   \n",
      "3         Color    Solarize   Sharpness      -0.988941         0.533313   \n",
      "4        Rotate       Color  TranslateX      -0.989029          0.51801   \n",
      "..          ...         ...         ...            ...              ...   \n",
      "240  TranslateY      ShearX   Sharpness      -0.992851         0.523069   \n",
      "241      Rotate    Contrast       Color      -0.991757         0.528115   \n",
      "242   Sharpness  TranslateX       Color       -0.98963         0.520191   \n",
      "243    Solarize  Brightness    Contrast      -0.985784         0.515166   \n",
      "244   Sharpness  TranslateX  Brightness      -0.984669         0.523568   \n",
      "\n",
      "    final val loss final test loss test acc  train acc val acc method  \n",
      "0         0.561454        0.514427     82.7  82.615556   81.18   BYOL  \n",
      "1         0.540734        0.496821    83.46  82.228889   81.36   BYOL  \n",
      "2          0.56426        0.503086    82.73  81.833333    80.2   BYOL  \n",
      "3         0.561262        0.522551    82.35  81.851111   80.68   BYOL  \n",
      "4         0.571141        0.506087     82.8  82.191111   80.44   BYOL  \n",
      "..             ...             ...      ...        ...     ...    ...  \n",
      "240       0.563552        0.503611    83.25      82.28   80.72   BYOL  \n",
      "241       0.579292        0.517602    82.94  82.055556    80.2   BYOL  \n",
      "242        0.55973        0.501838    83.27  82.333333   81.08   BYOL  \n",
      "243       0.578161         0.51152    82.87  82.506667   80.58   BYOL  \n",
      "244       0.575481        0.507435    82.95  82.204444   79.86   BYOL  \n",
      "\n",
      "[245 rows x 11 columns], 'NNCLR':             op1         op2         op3 final ssl loss final train loss  \\\n",
      "0    Brightness      ShearX    Solarize       3.213121         0.532796   \n",
      "1      Contrast      Rotate  TranslateX       3.219668         0.523515   \n",
      "2        ShearY  TranslateY       Color       3.258857         0.528392   \n",
      "3         Color    Solarize   Sharpness       3.235292         0.527889   \n",
      "4        Rotate       Color  TranslateX       3.225592         0.527174   \n",
      "..          ...         ...         ...            ...              ...   \n",
      "240  TranslateY      ShearX   Sharpness       3.222894         0.541421   \n",
      "241      Rotate    Contrast       Color       3.222956         0.526056   \n",
      "242   Sharpness  TranslateX       Color       3.239977         0.527862   \n",
      "243    Solarize  Brightness    Contrast        3.23221         0.530511   \n",
      "244   Sharpness  TranslateX  Brightness       3.241327         0.534158   \n",
      "\n",
      "    final val loss final test loss test acc  train acc val acc method  \n",
      "0         0.567948        0.504782    83.28  81.742222    80.5  NNCLR  \n",
      "1         0.556332        0.507268    83.03  82.071111   80.62  NNCLR  \n",
      "2          0.57612        0.541947    81.66  82.004444   80.04  NNCLR  \n",
      "3         0.573185        0.525566    82.21  81.906667    80.4  NNCLR  \n",
      "4         0.570472        0.506648    83.07  81.977778   80.46  NNCLR  \n",
      "..             ...             ...      ...        ...     ...    ...  \n",
      "240       0.553925        0.503882    82.68      81.56   80.76  NNCLR  \n",
      "241       0.562372        0.525644    82.43      82.06    80.7  NNCLR  \n",
      "242       0.560538        0.509165    82.75  82.062222   80.58  NNCLR  \n",
      "243        0.55847        0.502684    83.21  82.108889   80.56  NNCLR  \n",
      "244       0.542588         0.50931    82.95  81.882222   81.44  NNCLR  \n",
      "\n",
      "[245 rows x 11 columns], 'SwaV':             op1         op2         op3 final ssl loss final train loss  \\\n",
      "0    Brightness      ShearX    Solarize       4.714226         0.538625   \n",
      "1      Contrast      Rotate  TranslateX       4.724234         0.527112   \n",
      "2        ShearY  TranslateY       Color       5.824056         0.525273   \n",
      "3         Color    Solarize   Sharpness       4.647628         0.514009   \n",
      "4        Rotate       Color  TranslateX       4.709378         0.522326   \n",
      "..          ...         ...         ...            ...              ...   \n",
      "240  TranslateY      ShearX   Sharpness       5.824429         0.529691   \n",
      "241      Rotate    Contrast       Color       4.718337         0.529941   \n",
      "242   Sharpness  TranslateX       Color       5.777626          0.52043   \n",
      "243    Solarize  Brightness    Contrast       4.985547         0.514911   \n",
      "244   Sharpness  TranslateX  Brightness       5.833344         0.518675   \n",
      "\n",
      "    final val loss final test loss test acc  train acc val acc method  \n",
      "0         0.609014        0.555311    81.46  81.546667   78.86   SwaV  \n",
      "1         0.588472        0.524555     82.4  81.875556   80.04   SwaV  \n",
      "2         0.598444        0.525934    82.32  82.004444   79.34   SwaV  \n",
      "3         0.579832        0.521363    82.63      82.46   79.46   SwaV  \n",
      "4         0.575464        0.501576    83.22  82.233333   79.92   SwaV  \n",
      "..             ...             ...      ...        ...     ...    ...  \n",
      "240       0.580961        0.506338    82.53  81.833333   79.62   SwaV  \n",
      "241       0.584079        0.530116    81.88  81.904444   79.94   SwaV  \n",
      "242       0.559005        0.518389    82.38      82.26   81.24   SwaV  \n",
      "243       0.558159        0.491146    83.27  82.597778   80.66   SwaV  \n",
      "244       0.590266         0.52766    82.37  82.335556   79.76   SwaV  \n",
      "\n",
      "[245 rows x 11 columns]}\n"
     ]
    }
   ],
   "source": [
    "dirs = [\n",
    "        \"/home/noah/ESSL/experiments/ssl_testing3/BYOL\",\n",
    "        \"/home/noah/ESSL/experiments/ssl_testing3/NNCLR\",\n",
    "       # \"/home/noah/ESSL/experiments/ssl_testing3/SimCLR\",\n",
    "        \"/home/noah/ESSL/experiments/ssl_testing3/SwaV\"\n",
    "]\n",
    "\n",
    "\n",
    "# vals = pd.read_csv(os.path.join(dirs[0], \"outcomes.csv\"))\n",
    "vals = pd.DataFrame(columns=pd.read_csv(os.path.join(dirs[0], \"outcomes.csv\")).columns)\n",
    "for d in dirs:\n",
    "    f = os.path.join(d, \"outcomes.csv\")\n",
    "    f = pd.read_csv(f)\n",
    "    f[\"method\"] = [os.path.basename(d) for _ in range(len(f))]\n",
    "    vals = pd.concat([vals, f])\n",
    "\n",
    "\n",
    "with open(os.path.join(dirs[0], \"chromosomes.json\"), \"r\") as f:\n",
    "    chromos = json.load(f)\n",
    "c_strings = []\n",
    "ops = []\n",
    "for i in range(len(chromos)):\n",
    "    c = chromos[str(i)]\n",
    "    c = [c_i[0] for c_i in c]\n",
    "    c_strings.append(\" \".join(c))\n",
    "    ops.append(c)\n",
    "chromo_df = pd.DataFrame(ops, columns=[\"op1\", \"op2\", \"op3\"])\n",
    "colors=mcp.gen_color(cmap='Paired',n=len(c_strings))\n",
    "chromo_colors = {chromo:color for chromo, color in zip(c_strings, colors)}\n",
    "chromo_df[\"chromosome\"] = c_strings\n",
    "chromos = {}\n",
    "for method in vals[\"method\"].unique():\n",
    "    vals_i = vals[vals[\"method\"] == method]\n",
    "    chromo_df_i = pd.concat([chromo_df, vals_i], axis=1)\n",
    "    chromo_df_i = chromo_df_i.drop(columns=[\"Unnamed: 0\", \"chromosome\"])\n",
    "    chromos[method] = chromo_df_i\n",
    "\n"
   ]
  },
  {
   "cell_type": "markdown",
   "metadata": {},
   "source": [
    "Exploring test acc top k operators"
   ]
  },
  {
   "cell_type": "code",
   "execution_count": 5,
   "metadata": {},
   "outputs": [
    {
     "data": {
      "text/plain": [
       "{'Brightness',\n",
       " 'Color',\n",
       " 'Contrast',\n",
       " 'Rotate',\n",
       " 'Sharpness',\n",
       " 'ShearX',\n",
       " 'ShearY',\n",
       " 'Solarize',\n",
       " 'TranslateX',\n",
       " 'TranslateY'}"
      ]
     },
     "execution_count": 5,
     "metadata": {},
     "output_type": "execute_result"
    }
   ],
   "source": [
    "all_ops = set(list(chromos['BYOL'][\"op1\"].unique())+ list(chromos['BYOL'][\"op2\"].unique()) + list(chromos['BYOL'][\"op3\"].unique()))\n",
    "all_ops"
   ]
  },
  {
   "cell_type": "code",
   "execution_count": 18,
   "metadata": {},
   "outputs": [
    {
     "data": {
      "image/png": "[encoded data removed]",
      "text/plain": [
       "<Figure size 432x288 with 1 Axes>"
      ]
     },
     "metadata": {
      "needs_background": "light"
     },
     "output_type": "display_data"
    },
    {
     "data": {
      "image/png": "[encoded data removed]",
      "text/plain": [
       "<Figure size 432x288 with 1 Axes>"
      ]
     },
     "metadata": {
      "needs_background": "light"
     },
     "output_type": "display_data"
    },
    {
     "data": {
      "image/png": "[encoded data removed]",
      "text/plain": [
       "<Figure size 432x288 with 1 Axes>"
      ]
     },
     "metadata": {
      "needs_background": "light"
     },
     "output_type": "display_data"
    },
    {
     "data": {
      "text/plain": [
       "<Figure size 432x288 with 0 Axes>"
      ]
     },
     "metadata": {},
     "output_type": "display_data"
    }
   ],
   "source": [
    "N = 50\n",
    "for method in chromos:\n",
    "    chromos_i = chromos[method]\n",
    "    chromos_i = chromos_i.sort_values(by=\"test acc\")\n",
    "    counts = []\n",
    "    both = []\n",
    "    for op in all_ops:\n",
    "        c = (chromos_i[\"op1\"] == op)[:N].sum() + (chromos_i[\"op2\"] == op)[:N].sum() + (chromos_i[\"op3\"] == op)[:N].sum()\n",
    "        counts.append(c)\n",
    "        both.append([op, c])\n",
    "    both.sort(key=lambda x: x[1], reverse=True)\n",
    "    \n",
    "    sns.barplot(x=[i[1] for i in both], y=[i[0] for i in both])\n",
    "    plt.show()\n",
    "    plt.clf()\n"
   ]
  },
  {
   "cell_type": "code",
   "execution_count": null,
   "metadata": {},
   "outputs": [],
   "source": []
  }
 ],
 "metadata": {
  "kernelspec": {
   "display_name": "ESSL",
   "language": "python",
   "name": "essl"
  },
  "language_info": {
   "codemirror_mode": {
    "name": "ipython",
    "version": 3
   },
   "file_extension": ".py",
   "mimetype": "text/x-python",
   "name": "python",
   "nbconvert_exporter": "python",
   "pygments_lexer": "ipython3",
   "version": "3.9.12"
  }
 },
 "nbformat": 4,
 "nbformat_minor": 2
}
