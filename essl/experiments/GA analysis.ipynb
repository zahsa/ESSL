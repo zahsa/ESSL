{
 "cells": [
  {
   "cell_type": "code",
   "execution_count": 1,
   "metadata": {},
   "outputs": [],
   "source": [
    "import json\n",
    "from collections import defaultdict\n",
    "from itertools import chain\n",
    "import pandas as pd\n",
    "from mycolorpy import colorlist as mcp\n",
    "from IPython.display import display, HTML"
   ]
  },
  {
   "cell_type": "code",
   "execution_count": 2,
   "metadata": {},
   "outputs": [],
   "source": [
    "with open(\"/home/noah/ESSL/experiments/iteration_9/outcomes.json\", \"r\") as f:\n",
    "    results = json.load(f)\n",
    "    \n",
    "    "
   ]
  },
  {
   "cell_type": "code",
   "execution_count": 3,
   "metadata": {},
   "outputs": [
    {
     "data": {
      "text/plain": [
       "[[0, [['Contrast', 0.28], ['Solarize', 0], ['Brightness', 1.0]]],\n",
       " [0, [['Contrast', 0.28], ['Solarize', 0], ['Brightness', 1.0]]],\n",
       " [0, [['Solarize', 0], ['Rotate', -18], ['Sharpness', 0.82]]],\n",
       " [0, [['Solarize', 0], ['Rotate', -18], ['Sharpness', 0.82]]],\n",
       " [0, [['Rotate', -12], ['Color', 1.54], ['Sharpness', 0.82]]],\n",
       " [0, [['Solarize', 0], ['Rotate', -18], ['Color', 1.54]]],\n",
       " [0, [['ShearX', 0.27], ['Solarize', 0], ['Color', 1.54]]],\n",
       " [0, [['Rotate', -12], ['Sharpness', 1.0], ['TranslateX', 6]]],\n",
       " [0, [['Color', 0.64], ['TranslateX', 7], ['Contrast', 1.72]]],\n",
       " [0, [['Color', 0.64], ['TranslateX', 7], ['Contrast', 1.72]]],\n",
       " [0, [['Color', 0.64], ['Contrast', 0.28], ['TranslateX', 7]]],\n",
       " [0, [['ShearX', 0.27], ['TranslateX', 7], ['Rotate', 18]]],\n",
       " [0, [['TranslateX', 1], ['Sharpness', 0.82], ['Solarize', 0]]],\n",
       " [0, [['ShearY', 0.27], ['TranslateX', 5], ['Brightness', 1.36]]],\n",
       " [0, [['TranslateX', 1], ['Sharpness', 0.82], ['Brightness', 1.36]]],\n",
       " [0, [['TranslateX', 1], ['Sharpness', 0.82], ['Brightness', 1.36]]],\n",
       " [1, [['Contrast', 0.28], ['Solarize', 0], ['Brightness', 1.0]]],\n",
       " [1, [['Contrast', 0.28], ['Solarize', 0], ['Brightness', 1.0]]],\n",
       " [1, [['Contrast', 0.28], ['Solarize', 0], ['Brightness', 1.0]]],\n",
       " [1, [['Contrast', 0.28], ['Solarize', 0], ['Brightness', 1.0]]],\n",
       " [1, [['Color', 0.64], ['Sharpness', 0.82], ['Solarize', 0]]],\n",
       " [1, [['Solarize', 0], ['Contrast', 0.28], ['TranslateX', 7]]],\n",
       " [1, [['TranslateX', 1], ['Rotate', -18], ['Brightness', 1.36]]],\n",
       " [1, [['Solarize', 0], ['Sharpness', 0.82], ['Rotate', -18]]],\n",
       " [1, [['Color', 0.64], ['Sharpness', 0.82], ['Solarize', 0]]],\n",
       " [1, [['TranslateX', 1], ['Color', 0.64], ['Contrast', 1.72]]],\n",
       " [1, [['Solarize', 0], ['Sharpness', 1.0], ['Rotate', -18]]],\n",
       " [1, [['Sharpness', 1.0], ['Rotate', -18], ['TranslateX', 6]]],\n",
       " [1, [['TranslateX', 1], ['Color', 1.54], ['Sharpness', 0.82]]],\n",
       " [1, [['Rotate', -12], ['Sharpness', 0.82], ['Brightness', 1.36]]],\n",
       " [1, [['Color', 1.54], ['Rotate', -18], ['Sharpness', 0.82]]],\n",
       " [1, [['Solarize', 0], ['Color', 1.54], ['Sharpness', 0.82]]]]"
      ]
     },
     "execution_count": 3,
     "metadata": {},
     "output_type": "execute_result"
    }
   ],
   "source": [
    "results.keys()\n",
    "results['chromos']"
   ]
  },
  {
   "cell_type": "code",
   "execution_count": 4,
   "metadata": {},
   "outputs": [
    {
     "data": {
      "text/plain": [
       "[82.33, 82.31]"
      ]
     },
     "execution_count": 4,
     "metadata": {},
     "output_type": "execute_result"
    }
   ],
   "source": [
    "results['min']"
   ]
  },
  {
   "cell_type": "code",
   "execution_count": 5,
   "metadata": {},
   "outputs": [
    {
     "data": {
      "text/plain": [
       "[[0, 83.82],\n",
       " [0, 83.82],\n",
       " [0, 83.79],\n",
       " [0, 83.79],\n",
       " [0, 83.4],\n",
       " [0, 83.05],\n",
       " [0, 83.01],\n",
       " [0, 82.85],\n",
       " [0, 83.01],\n",
       " [0, 83.01],\n",
       " [0, 83.3],\n",
       " [0, 82.33],\n",
       " [0, 83.55],\n",
       " [0, 82.63],\n",
       " [0, 83.1],\n",
       " [0, 83.1],\n",
       " [1, 83.82],\n",
       " [1, 83.82],\n",
       " [1, 83.82],\n",
       " [1, 83.82],\n",
       " [1, 83.73],\n",
       " [1, 82.31],\n",
       " [1, 82.59],\n",
       " [1, 83.5],\n",
       " [1, 82.99],\n",
       " [1, 83.55],\n",
       " [1, 82.98],\n",
       " [1, 83.05],\n",
       " [1, 82.5],\n",
       " [1, 83.3],\n",
       " [1, 83.53],\n",
       " [1, 82.59]]"
      ]
     },
     "execution_count": 5,
     "metadata": {},
     "output_type": "execute_result"
    }
   ],
   "source": [
    "results['pop_vals']"
   ]
  },
  {
   "cell_type": "code",
   "execution_count": 6,
   "metadata": {},
   "outputs": [
    {
     "data": {
      "text/plain": [
       "defaultdict(list, {0: 0, 1: 0})"
      ]
     },
     "execution_count": 6,
     "metadata": {},
     "output_type": "execute_result"
    }
   ],
   "source": [
    "# get max indexes from each generation\n",
    "max_inds = defaultdict(list)\n",
    "\n",
    "for i, val in results['pop_vals']:\n",
    "    max_inds[i].append(val)\n",
    "    \n",
    "for k in max_inds:\n",
    "    max_inds[k] = max_inds[k].index(max(max_inds[k]))\n",
    "    \n",
    "max_inds"
   ]
  },
  {
   "cell_type": "code",
   "execution_count": 7,
   "metadata": {},
   "outputs": [],
   "source": [
    "results['chromos']\n",
    "\n",
    "chromo_lists = defaultdict(list)\n",
    "\n",
    "for c in results['chromos']:\n",
    "    chromo_lists[c[0]].append(c[1])\n",
    "# max_chromos = {c:chromo_lists[max_inds[c]] for c in chromo_lists}\n",
    "# max_chromos\n",
    "max_chromos = [chromo_lists[c][max_inds[c]] for c in max_inds]\n"
   ]
  },
  {
   "cell_type": "code",
   "execution_count": 8,
   "metadata": {},
   "outputs": [
    {
     "data": {
      "text/plain": [
       "[['Contrast', 0.28], ['Solarize', 0], ['Brightness', 1.0]]"
      ]
     },
     "execution_count": 8,
     "metadata": {},
     "output_type": "execute_result"
    }
   ],
   "source": [
    "max_chromos[1]"
   ]
  },
  {
   "cell_type": "code",
   "execution_count": 9,
   "metadata": {},
   "outputs": [
    {
     "data": {
      "text/html": [
       "<style type=\"text/css\">\n",
       "#T_ae174_row0_col0, #T_ae174_row1_col0 {\n",
       "  Background: #ff7f00;\n",
       "}\n",
       "#T_ae174_row0_col1, #T_ae174_row0_col3, #T_ae174_row0_col5, #T_ae174_row1_col1, #T_ae174_row1_col3, #T_ae174_row1_col5 {\n",
       "  Background: white;\n",
       "}\n",
       "#T_ae174_row0_col2, #T_ae174_row1_col2 {\n",
       "  Background: #6a3d9a;\n",
       "}\n",
       "#T_ae174_row0_col4, #T_ae174_row1_col4 {\n",
       "  Background: #b15928;\n",
       "}\n",
       "</style>\n",
       "<table id=\"T_ae174\">\n",
       "  <thead>\n",
       "    <tr>\n",
       "      <th class=\"blank level0\" >&nbsp;</th>\n",
       "      <th id=\"T_ae174_level0_col0\" class=\"col_heading level0 col0\" >op1</th>\n",
       "      <th id=\"T_ae174_level0_col1\" class=\"col_heading level0 col1\" >intensity1</th>\n",
       "      <th id=\"T_ae174_level0_col2\" class=\"col_heading level0 col2\" >op2</th>\n",
       "      <th id=\"T_ae174_level0_col3\" class=\"col_heading level0 col3\" >intensity2</th>\n",
       "      <th id=\"T_ae174_level0_col4\" class=\"col_heading level0 col4\" >op3</th>\n",
       "      <th id=\"T_ae174_level0_col5\" class=\"col_heading level0 col5\" >intensity3</th>\n",
       "    </tr>\n",
       "  </thead>\n",
       "  <tbody>\n",
       "    <tr>\n",
       "      <th id=\"T_ae174_level0_row0\" class=\"row_heading level0 row0\" >0</th>\n",
       "      <td id=\"T_ae174_row0_col0\" class=\"data row0 col0\" >Contrast</td>\n",
       "      <td id=\"T_ae174_row0_col1\" class=\"data row0 col1\" >0.280000</td>\n",
       "      <td id=\"T_ae174_row0_col2\" class=\"data row0 col2\" >Solarize</td>\n",
       "      <td id=\"T_ae174_row0_col3\" class=\"data row0 col3\" >0</td>\n",
       "      <td id=\"T_ae174_row0_col4\" class=\"data row0 col4\" >Brightness</td>\n",
       "      <td id=\"T_ae174_row0_col5\" class=\"data row0 col5\" >1.000000</td>\n",
       "    </tr>\n",
       "    <tr>\n",
       "      <th id=\"T_ae174_level0_row1\" class=\"row_heading level0 row1\" >1</th>\n",
       "      <td id=\"T_ae174_row1_col0\" class=\"data row1 col0\" >Contrast</td>\n",
       "      <td id=\"T_ae174_row1_col1\" class=\"data row1 col1\" >0.280000</td>\n",
       "      <td id=\"T_ae174_row1_col2\" class=\"data row1 col2\" >Solarize</td>\n",
       "      <td id=\"T_ae174_row1_col3\" class=\"data row1 col3\" >0</td>\n",
       "      <td id=\"T_ae174_row1_col4\" class=\"data row1 col4\" >Brightness</td>\n",
       "      <td id=\"T_ae174_row1_col5\" class=\"data row1 col5\" >1.000000</td>\n",
       "    </tr>\n",
       "  </tbody>\n",
       "</table>\n"
      ],
      "text/plain": [
       "<IPython.core.display.HTML object>"
      ]
     },
     "metadata": {},
     "output_type": "display_data"
    }
   ],
   "source": [
    "chromos = []\n",
    "ops = []\n",
    "for m in max_chromos:\n",
    "    chromos.append(list(chain(*m)))\n",
    "    ops.append(m[0][0])\n",
    "    ops.append(m[1][0])\n",
    "    ops.append(m[2][0])\n",
    "\n",
    "colors=mcp.gen_color(cmap='Paired',n=len(ops))\n",
    "chromo_colors = {op:color for op, color in zip(ops, colors)}\n",
    "\n",
    "def colorchromos(val):\n",
    "    return [f'Background: {chromo_colors[val[\"op1\"]]}', \n",
    "            f'Background: white',\n",
    "            f'Background: {chromo_colors[val[\"op2\"]]}', \n",
    "            f'Background: white',\n",
    "            f'Background: {chromo_colors[val[\"op3\"]]}',\n",
    "            f'Background: white']\n",
    "\n",
    "df = pd.DataFrame(chromos, columns=[\"op1\", \"intensity1\", \n",
    "                               \"op2\", \"intensity2\", \n",
    "                               \"op3\",\"intensity3\"])\n",
    "\n",
    "display(HTML(df.style.apply(colorchromos, axis=1).to_html()))"
   ]
  },
  {
   "cell_type": "code",
   "execution_count": null,
   "metadata": {},
   "outputs": [],
   "source": []
  }
 ],
 "metadata": {
  "kernelspec": {
   "display_name": "ESSL",
   "language": "python",
   "name": "essl"
  },
  "language_info": {
   "codemirror_mode": {
    "name": "ipython",
    "version": 3
   },
   "file_extension": ".py",
   "mimetype": "text/x-python",
   "name": "python",
   "nbconvert_exporter": "python",
   "pygments_lexer": "ipython3",
   "version": "3.9.12"
  }
 },
 "nbformat": 4,
 "nbformat_minor": 2
}
